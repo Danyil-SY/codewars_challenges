{
 "cells": [
  {
   "cell_type": "markdown",
   "id": "330cc42f",
   "metadata": {},
   "source": [
    "### Coding Meetup #8 - Higher-Order Functions Series - Will all continents be represented?"
   ]
  },
  {
   "cell_type": "markdown",
   "id": "9c30a043",
   "metadata": {},
   "source": [
    "You will be given a sequence of objects (associative arrays in PHP) representing data about developers who have signed up to attend the next coding meetup that you are organising.\n",
    "\n",
    "Your task is to return:\n",
    "\n",
    "true if all of the following continents / geographic zones will be represented by at least one developer: 'Africa', 'Americas', 'Asia', 'Europe', 'Oceania'.\n",
    "false otherwise.\n",
    "For example, given the following input array:\n",
    "<pre>\n",
    "list1 =  [\n",
    "  { 'firstName': 'Fatima', 'lastName': 'A.', 'country': 'Algeria', 'continent': 'Africa', 'age': 25, 'language': 'JavaScript' },\n",
    "  { 'firstName': 'Agustín', 'lastName': 'M.', 'country': 'Chile', 'continent': 'Americas', 'age': 37, 'language': 'C' },\n",
    "  { 'firstName': 'Jing', 'lastName': 'X.', 'country': 'China', 'continent': 'Asia', 'age': 39, 'language': 'Ruby' },\n",
    "  { 'firstName': 'Laia', 'lastName': 'P.', 'country': 'Andorra', 'continent': 'Europe', 'age': 55, 'language': 'Ruby' },\n",
    "  { 'firstName': 'Oliver', 'lastName': 'Q.', 'country': 'Australia', 'continent': 'Oceania', 'age': 65, 'language': 'PHP' }\n",
    "  ]\n",
    "</pre>\n",
    "your function should return true as there is at least one developer from the required 5 geographic zones.\n",
    "\n",
    "Notes:\n",
    "\n",
    "The input array and continent names will always be valid and formatted as in the list above for example 'Africa' will always start with upper-case 'A'."
   ]
  },
  {
   "cell_type": "code",
   "execution_count": 1,
   "id": "0372d285",
   "metadata": {},
   "outputs": [],
   "source": [
    "def all_continents(lst): \n",
    "    return len(set(dict['continent'] for dict in lst)) == 5"
   ]
  },
  {
   "cell_type": "code",
   "execution_count": 5,
   "id": "02662cae",
   "metadata": {},
   "outputs": [],
   "source": [
    "list1 =  [\n",
    "  { 'firstName': 'Fatima', 'lastName': 'A.', 'country': 'Algeria', 'continent': 'Africa', 'age': 25, 'language': 'JavaScript' },\n",
    "  { 'firstName': 'Agustín', 'lastName': 'M.', 'country': 'Chile', 'continent': 'Americas', 'age': 37, 'language': 'C' },\n",
    "  { 'firstName': 'Jing', 'lastName': 'X.', 'country': 'China', 'continent': 'Asia', 'age': 39, 'language': 'Ruby' },\n",
    "  { 'firstName': 'Laia', 'lastName': 'P.', 'country': 'Andorra', 'continent': 'Europe', 'age': 55, 'language': 'Ruby' },\n",
    "  { 'firstName': 'Oliver', 'lastName': 'Q.', 'country': 'Australia', 'continent': 'Oceania', 'age': 65, 'language': 'PHP' }\n",
    "]"
   ]
  },
  {
   "cell_type": "code",
   "execution_count": 6,
   "id": "9259e414",
   "metadata": {},
   "outputs": [
    {
     "data": {
      "text/plain": [
       "True"
      ]
     },
     "execution_count": 6,
     "metadata": {},
     "output_type": "execute_result"
    }
   ],
   "source": [
    "all_continents(list1)"
   ]
  }
 ],
 "metadata": {
  "kernelspec": {
   "display_name": "Python 3 (ipykernel)",
   "language": "python",
   "name": "python3"
  },
  "language_info": {
   "codemirror_mode": {
    "name": "ipython",
    "version": 3
   },
   "file_extension": ".py",
   "mimetype": "text/x-python",
   "name": "python",
   "nbconvert_exporter": "python",
   "pygments_lexer": "ipython3",
   "version": "3.10.9"
  }
 },
 "nbformat": 4,
 "nbformat_minor": 5
}

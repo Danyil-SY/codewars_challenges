{
 "cells": [
  {
   "cell_type": "markdown",
   "id": "79f427e0",
   "metadata": {},
   "source": [
    "## Calculate average\n"
   ]
  },
  {
   "cell_type": "markdown",
   "id": "633a1259",
   "metadata": {},
   "source": [
    "Write a function which calculates the average of the numbers in a given list.\n",
    "\n",
    "Note: Empty arrays should return 0."
   ]
  },
  {
   "cell_type": "code",
   "execution_count": 2,
   "id": "9bb3e7d3",
   "metadata": {},
   "outputs": [],
   "source": [
    "def find_average(numbers):\n",
    "    return sum(numbers) / len(numbers) if numbers else 0"
   ]
  },
  {
   "cell_type": "code",
   "execution_count": 4,
   "id": "4ea89257",
   "metadata": {},
   "outputs": [
    {
     "data": {
      "text/plain": [
       "2.0"
      ]
     },
     "execution_count": 4,
     "metadata": {},
     "output_type": "execute_result"
    }
   ],
   "source": [
    "find_average([1, 2, 3])"
   ]
  },
  {
   "cell_type": "code",
   "execution_count": 5,
   "id": "267a8442",
   "metadata": {},
   "outputs": [
    {
     "data": {
      "text/plain": [
       "0"
      ]
     },
     "execution_count": 5,
     "metadata": {},
     "output_type": "execute_result"
    }
   ],
   "source": [
    "find_average([])"
   ]
  },
  {
   "cell_type": "code",
   "execution_count": 6,
   "id": "52e09ca2",
   "metadata": {},
   "outputs": [
    {
     "data": {
      "text/plain": [
       "1.5"
      ]
     },
     "execution_count": 6,
     "metadata": {},
     "output_type": "execute_result"
    }
   ],
   "source": [
    "find_average([1, 2])"
   ]
  }
 ],
 "metadata": {
  "kernelspec": {
   "display_name": "Python 3 (ipykernel)",
   "language": "python",
   "name": "python3"
  },
  "language_info": {
   "codemirror_mode": {
    "name": "ipython",
    "version": 3
   },
   "file_extension": ".py",
   "mimetype": "text/x-python",
   "name": "python",
   "nbconvert_exporter": "python",
   "pygments_lexer": "ipython3",
   "version": "3.10.9"
  }
 },
 "nbformat": 4,
 "nbformat_minor": 5
}

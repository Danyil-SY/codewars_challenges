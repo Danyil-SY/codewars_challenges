{
 "cells": [
  {
   "cell_type": "markdown",
   "id": "30f2c6eb",
   "metadata": {},
   "source": [
    "## Get character from ASCII Value\n"
   ]
  },
  {
   "cell_type": "markdown",
   "id": "d85f9330",
   "metadata": {},
   "source": [
    "Write a function get_char() / getChar() which takes a number and returns the corresponding ASCII char for that value.\n",
    "\n",
    "Example:\n",
    "\n",
    "get_char(65)\n",
    "should return:\n",
    "\n",
    "'A'\n",
    "For ASCII table, you can refer to http://www.asciitable.com/"
   ]
  },
  {
   "cell_type": "code",
   "execution_count": 1,
   "id": "5c096544",
   "metadata": {},
   "outputs": [],
   "source": [
    "def get_char(c):\n",
    "  return chr(c)"
   ]
  },
  {
   "cell_type": "code",
   "execution_count": 2,
   "id": "811aed16",
   "metadata": {},
   "outputs": [
    {
     "data": {
      "text/plain": [
       "'A'"
      ]
     },
     "execution_count": 2,
     "metadata": {},
     "output_type": "execute_result"
    }
   ],
   "source": [
    "get_char(65)"
   ]
  },
  {
   "cell_type": "code",
   "execution_count": null,
   "id": "956ad0ca",
   "metadata": {},
   "outputs": [],
   "source": []
  }
 ],
 "metadata": {
  "kernelspec": {
   "display_name": "Python 3 (ipykernel)",
   "language": "python",
   "name": "python3"
  },
  "language_info": {
   "codemirror_mode": {
    "name": "ipython",
    "version": 3
   },
   "file_extension": ".py",
   "mimetype": "text/x-python",
   "name": "python",
   "nbconvert_exporter": "python",
   "pygments_lexer": "ipython3",
   "version": "3.10.9"
  }
 },
 "nbformat": 4,
 "nbformat_minor": 5
}

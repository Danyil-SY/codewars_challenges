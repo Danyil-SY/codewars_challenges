{
 "cells": [
  {
   "cell_type": "markdown",
   "id": "976f99e0",
   "metadata": {},
   "source": [
    "### Coding Meetup #11 - Higher-Order Functions Series - Find the average age"
   ]
  },
  {
   "cell_type": "markdown",
   "id": "a7fbca73",
   "metadata": {},
   "source": [
    "You will be given a sequence of objects representing data about developers who have signed up to attend the next coding meetup that you are organising.\n",
    "\n",
    "Given the following input array:\n",
    "\n",
    "<pre>\n",
    "list1 = [\n",
    "  { 'firstName': 'Maria', 'lastName': 'Y.', 'country': 'Cyprus', 'continent': 'Europe', 'age': 30, 'language': 'Java' },\n",
    "  { 'firstName': 'Victoria', 'lastName': 'T.', 'country': 'Puerto Rico', 'continent': 'Americas', 'age': 70, 'language': 'Python' },\n",
    "]\n",
    "</pre>\n",
    "write a function that returns the average age of developers (rounded to the nearest integer). In the example above your function should return 50 (number).\n",
    "\n",
    "Notes:\n",
    "\n",
    "The input array will always be valid and formatted as in the example above.\n",
    "Age is represented by a number which can be any positive integer."
   ]
  },
  {
   "cell_type": "code",
   "execution_count": 1,
   "id": "a1c293ce",
   "metadata": {},
   "outputs": [],
   "source": [
    "def get_average(lst): \n",
    "    return round(sum([el[\"age\"] for el in lst])/len(lst))"
   ]
  }
 ],
 "metadata": {
  "kernelspec": {
   "display_name": "Python 3 (ipykernel)",
   "language": "python",
   "name": "python3"
  },
  "language_info": {
   "codemirror_mode": {
    "name": "ipython",
    "version": 3
   },
   "file_extension": ".py",
   "mimetype": "text/x-python",
   "name": "python",
   "nbconvert_exporter": "python",
   "pygments_lexer": "ipython3",
   "version": "3.10.9"
  }
 },
 "nbformat": 4,
 "nbformat_minor": 5
}

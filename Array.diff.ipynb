{
 "cells": [
  {
   "cell_type": "markdown",
   "id": "d0eba504",
   "metadata": {},
   "source": [
    "### Array.diff"
   ]
  },
  {
   "cell_type": "markdown",
   "id": "0ec4dd4c",
   "metadata": {},
   "source": [
    "Your goal in this kata is to implement a difference function, which subtracts one list from another and returns the result.\n",
    "\n",
    "It should remove all values from list a, which are present in list b keeping their order.\n",
    "\n",
    "array_diff([1,2],[1]) == [2]\n",
    "If a value is present in b, all of its occurrences must be removed from the other:\n",
    "\n",
    "array_diff([1,2,2,2,3],[2]) == [1,3]"
   ]
  },
  {
   "cell_type": "code",
   "execution_count": 1,
   "id": "765b44cb",
   "metadata": {},
   "outputs": [],
   "source": [
    "def array_diff(a, b):\n",
    "    return [value for value in a if value not in b]"
   ]
  },
  {
   "cell_type": "code",
   "execution_count": 3,
   "id": "d695b5ea",
   "metadata": {},
   "outputs": [
    {
     "data": {
      "text/plain": [
       "[2]"
      ]
     },
     "execution_count": 3,
     "metadata": {},
     "output_type": "execute_result"
    }
   ],
   "source": [
    "array_diff([1,2], [1])"
   ]
  },
  {
   "cell_type": "code",
   "execution_count": 4,
   "id": "8d908e1a",
   "metadata": {},
   "outputs": [
    {
     "data": {
      "text/plain": [
       "[2, 2]"
      ]
     },
     "execution_count": 4,
     "metadata": {},
     "output_type": "execute_result"
    }
   ],
   "source": [
    "array_diff([1,2,2], [1])"
   ]
  },
  {
   "cell_type": "code",
   "execution_count": 6,
   "id": "61fed277",
   "metadata": {},
   "outputs": [
    {
     "data": {
      "text/plain": [
       "[3]"
      ]
     },
     "execution_count": 6,
     "metadata": {},
     "output_type": "execute_result"
    }
   ],
   "source": [
    "array_diff([1,2,3], [1, 2])"
   ]
  },
  {
   "cell_type": "code",
   "execution_count": 8,
   "id": "55ac7d31",
   "metadata": {},
   "outputs": [
    {
     "data": {
      "text/plain": [
       "[1, 2, 2]"
      ]
     },
     "execution_count": 8,
     "metadata": {},
     "output_type": "execute_result"
    }
   ],
   "source": [
    "array_diff([1,2,2], [])"
   ]
  }
 ],
 "metadata": {
  "kernelspec": {
   "display_name": "Python 3 (ipykernel)",
   "language": "python",
   "name": "python3"
  },
  "language_info": {
   "codemirror_mode": {
    "name": "ipython",
    "version": 3
   },
   "file_extension": ".py",
   "mimetype": "text/x-python",
   "name": "python",
   "nbconvert_exporter": "python",
   "pygments_lexer": "ipython3",
   "version": "3.10.9"
  }
 },
 "nbformat": 4,
 "nbformat_minor": 5
}
